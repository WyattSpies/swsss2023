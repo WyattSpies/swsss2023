{
 "cells": [
  {
   "cell_type": "markdown",
   "id": "97d857d6",
   "metadata": {},
   "source": [
    "### Starting numpy"
   ]
  },
  {
   "cell_type": "code",
   "execution_count": 1,
   "id": "87467319",
   "metadata": {},
   "outputs": [],
   "source": [
    "import numpy as np"
   ]
  },
  {
   "cell_type": "code",
   "execution_count": 2,
   "id": "fa6188c3",
   "metadata": {},
   "outputs": [
    {
     "data": {
      "text/plain": [
       "array([0.  , 0.25, 1.  ])"
      ]
     },
     "execution_count": 2,
     "metadata": {},
     "output_type": "execute_result"
    }
   ],
   "source": [
    "vec = np.linspace(start=0, stop=1, num=3)\n",
    "vec*vec"
   ]
  },
  {
   "cell_type": "code",
   "execution_count": 3,
   "id": "7b15cbe8",
   "metadata": {},
   "outputs": [
    {
     "data": {
      "text/plain": [
       "array([ True,  True,  True])"
      ]
     },
     "execution_count": 3,
     "metadata": {},
     "output_type": "execute_result"
    }
   ],
   "source": [
    "vec*vec == vec**2"
   ]
  },
  {
   "cell_type": "code",
   "execution_count": 4,
   "id": "7426fe98",
   "metadata": {},
   "outputs": [
    {
     "data": {
      "text/plain": [
       "matrix([[ True,  True],\n",
       "        [ True,  True]])"
      ]
     },
     "execution_count": 4,
     "metadata": {},
     "output_type": "execute_result"
    }
   ],
   "source": [
    "mat = np.matrix([[1,2],\n",
    "                 [3,4]])\n",
    "mat*mat == mat**2"
   ]
  },
  {
   "cell_type": "code",
   "execution_count": 5,
   "id": "892826ca",
   "metadata": {},
   "outputs": [
    {
     "data": {
      "text/plain": [
       "matrix([[1, 3],\n",
       "        [2, 4]])"
      ]
     },
     "execution_count": 5,
     "metadata": {},
     "output_type": "execute_result"
    }
   ],
   "source": [
    "mat.transpose()"
   ]
  },
  {
   "cell_type": "markdown",
   "id": "61a60cd2",
   "metadata": {},
   "source": [
    "### Element Access"
   ]
  },
  {
   "cell_type": "code",
   "execution_count": 6,
   "id": "67951d89",
   "metadata": {},
   "outputs": [
    {
     "data": {
      "text/plain": [
       "2"
      ]
     },
     "execution_count": 6,
     "metadata": {},
     "output_type": "execute_result"
    }
   ],
   "source": [
    "my_list = [1,2,3,4,5]\n",
    "my_list[1]"
   ]
  },
  {
   "cell_type": "code",
   "execution_count": 7,
   "id": "d35ddbb3",
   "metadata": {},
   "outputs": [
    {
     "data": {
      "text/plain": [
       "array([2, 3])"
      ]
     },
     "execution_count": 7,
     "metadata": {},
     "output_type": "execute_result"
    }
   ],
   "source": [
    "my_array = np.array(my_list)\n",
    "my_array[1:3]"
   ]
  },
  {
   "cell_type": "code",
   "execution_count": 8,
   "id": "50c5ce6e",
   "metadata": {},
   "outputs": [
    {
     "data": {
      "text/plain": [
       "[2, 3]"
      ]
     },
     "execution_count": 8,
     "metadata": {},
     "output_type": "execute_result"
    }
   ],
   "source": [
    "my_list[1:3]"
   ]
  },
  {
   "cell_type": "code",
   "execution_count": 9,
   "id": "c638a432",
   "metadata": {},
   "outputs": [
    {
     "data": {
      "text/plain": [
       "array([1, 2, 3])"
      ]
     },
     "execution_count": 9,
     "metadata": {},
     "output_type": "execute_result"
    }
   ],
   "source": [
    "my_array[:3]"
   ]
  },
  {
   "cell_type": "code",
   "execution_count": 10,
   "id": "157e3b18",
   "metadata": {},
   "outputs": [
    {
     "data": {
      "text/plain": [
       "array([4, 5])"
      ]
     },
     "execution_count": 10,
     "metadata": {},
     "output_type": "execute_result"
    }
   ],
   "source": [
    "my_array[3:]"
   ]
  },
  {
   "cell_type": "code",
   "execution_count": 11,
   "id": "561326a2",
   "metadata": {},
   "outputs": [
    {
     "data": {
      "text/plain": [
       "array([1, 2, 3, 4])"
      ]
     },
     "execution_count": 11,
     "metadata": {},
     "output_type": "execute_result"
    }
   ],
   "source": [
    "my_array[:-1]"
   ]
  },
  {
   "cell_type": "code",
   "execution_count": 12,
   "id": "1d337a10",
   "metadata": {},
   "outputs": [
    {
     "data": {
      "text/plain": [
       "array([1, 2, 3])"
      ]
     },
     "execution_count": 12,
     "metadata": {},
     "output_type": "execute_result"
    }
   ],
   "source": [
    "my_array[:-2]"
   ]
  },
  {
   "cell_type": "code",
   "execution_count": 13,
   "id": "4d6e2748",
   "metadata": {},
   "outputs": [
    {
     "data": {
      "text/plain": [
       "array([5])"
      ]
     },
     "execution_count": 13,
     "metadata": {},
     "output_type": "execute_result"
    }
   ],
   "source": [
    "my_array[-1:]"
   ]
  },
  {
   "cell_type": "markdown",
   "id": "598d142d",
   "metadata": {},
   "source": [
    "### Plotting!!! with matplotlib "
   ]
  },
  {
   "cell_type": "code",
   "execution_count": 14,
   "id": "4e297a7f",
   "metadata": {},
   "outputs": [
    {
     "data": {
      "text/plain": [
       "<function matplotlib.pyplot.show(close=None, block=None)>"
      ]
     },
     "execution_count": 14,
     "metadata": {},
     "output_type": "execute_result"
    },
    {
     "data": {
      "image/png": "[encoded data removed]",
      "text/plain": [
       "<Figure size 640x480 with 1 Axes>"
      ]
     },
     "metadata": {},
     "output_type": "display_data"
    }
   ],
   "source": [
    "import numpy as np\n",
    "import matplotlib.pyplot as plt\n",
    "\n",
    "x = np.linspace(0,10)\n",
    "plt.plot(x, np.exp(x))\n",
    "plt.xlabel('$0 \\leq x < 1$')       #r stands for rich text\n",
    "plt.ylabel('$e^x$')\n",
    "plt.title('Exponential Function')\n",
    "plt.show"
   ]
  },
  {
   "cell_type": "markdown",
   "id": "c7b714d8",
   "metadata": {},
   "source": [
    "### Dictionaries"
   ]
  },
  {
   "cell_type": "code",
   "execution_count": 15,
   "id": "1c25a8d7",
   "metadata": {},
   "outputs": [
    {
     "data": {
      "text/plain": [
       "'\\nplanets, star, dwarf planets = keys\\n\\nmercury, sol, pluto = values\\n'"
      ]
     },
     "execution_count": 15,
     "metadata": {},
     "output_type": "execute_result"
    }
   ],
   "source": [
    "solar_system = {'planets':('Mercury', 'Venus', 'Earth', 'Mars', 'Jupiter',\n",
    "                           'Saturn', 'Uranus', 'Neptune'),\n",
    "                'star': 'Sol',\n",
    "                'dwarf_planets': ('Pluto',)\n",
    "               }\n",
    "\"\"\"\n",
    "planets, star, dwarf planets = keys\n",
    "\n",
    "mercury, sol, pluto = values\n",
    "\"\"\"\n"
   ]
  },
  {
   "cell_type": "code",
   "execution_count": 16,
   "id": "9bcaf3de",
   "metadata": {},
   "outputs": [
    {
     "data": {
      "text/plain": [
       "('Pluto',)"
      ]
     },
     "execution_count": 16,
     "metadata": {},
     "output_type": "execute_result"
    }
   ],
   "source": [
    "solar_system['dwarf_planets']"
   ]
  },
  {
   "cell_type": "code",
   "execution_count": 17,
   "id": "b706ccb2",
   "metadata": {},
   "outputs": [],
   "source": [
    "planets = [planet for planet in solar_system['planets']]    #or planets = list(solar_system['planets'])"
   ]
  },
  {
   "cell_type": "code",
   "execution_count": 18,
   "id": "3fd9b5ab",
   "metadata": {},
   "outputs": [
    {
     "name": "stdout",
     "output_type": "stream",
     "text": [
      "['Earth', 'Jupiter', 'Mars', 'Mercury', 'Neptune', 'Saturn', 'Uranus', 'Venus']\n"
     ]
    }
   ],
   "source": [
    "print(sorted(planets)) #alphabet sort"
   ]
  },
  {
   "cell_type": "code",
   "execution_count": 19,
   "id": "c29338f2",
   "metadata": {},
   "outputs": [
    {
     "name": "stdout",
     "output_type": "stream",
     "text": [
      "('Jupiter', 'Saturn', 'Uranus', 'Neptune')\n"
     ]
    }
   ],
   "source": [
    "print(solar_system['planets'][4:])    #print only gas planets"
   ]
  },
  {
   "cell_type": "markdown",
   "id": "a346fbbb",
   "metadata": {},
   "source": [
    "### Iterables"
   ]
  },
  {
   "cell_type": "code",
   "execution_count": 20,
   "id": "2df2e334",
   "metadata": {},
   "outputs": [],
   "source": [
    "# Lists, tuples, arrays, dictionaries"
   ]
  },
  {
   "cell_type": "code",
   "execution_count": 21,
   "id": "496ceeb5",
   "metadata": {},
   "outputs": [
    {
     "name": "stdout",
     "output_type": "stream",
     "text": [
      "planets\n",
      "star\n",
      "dwarf_planets\n"
     ]
    }
   ],
   "source": [
    "for key in solar_system.keys():\n",
    "    print(key)"
   ]
  },
  {
   "cell_type": "code",
   "execution_count": 22,
   "id": "50cff59e",
   "metadata": {},
   "outputs": [
    {
     "name": "stdout",
     "output_type": "stream",
     "text": [
      "('Mercury', 'Venus', 'Earth', 'Mars', 'Jupiter', 'Saturn', 'Uranus', 'Neptune')\n",
      "Sol\n",
      "('Pluto',)\n"
     ]
    }
   ],
   "source": [
    "for value in solar_system.values():\n",
    "    print(value)"
   ]
  },
  {
   "cell_type": "code",
   "execution_count": 23,
   "id": "8b7f58d8",
   "metadata": {},
   "outputs": [
    {
     "name": "stdout",
     "output_type": "stream",
     "text": [
      "planets ('Mercury', 'Venus', 'Earth', 'Mars', 'Jupiter', 'Saturn', 'Uranus', 'Neptune')\n",
      "star Sol\n",
      "dwarf_planets ('Pluto',)\n"
     ]
    }
   ],
   "source": [
    "for key, value in solar_system.items():\n",
    "    print(key, value)"
   ]
  },
  {
   "cell_type": "markdown",
   "id": "9f8d0bcc",
   "metadata": {},
   "source": [
    "### Plot AL data for birthday"
   ]
  },
  {
   "cell_type": "code",
   "execution_count": 26,
   "id": "74cacc23",
   "metadata": {},
   "outputs": [
    {
     "data": {
      "text/plain": [
       "dict_keys(['times', 'id_imf', 'id_sw', 'num_avg_imf', 'num_avg_sw', 'interp', 'timeshift', 'rms_timeshift', 'rms_phase', 'dt', 'b', 'bx', 'by_gse', 'bz_gse', 'by', 'bz', 'rms_sd_b', 'rms_sd_field', 'v', 'vx_gse', 'vy_gse', 'vz_gse', 'density', 'temperature', 'pressure', 'e', 'beta', 'alfven_mach', 'x_gse', 'y_gse', 'z_gse', 'bsn_x_gse', 'bsn_y_gse', 'bsn_z_gse', 'ae', 'al', 'au', 'sym_d', 'sym_h', 'asy_d', 'asy_h', 'pc_n', 'mach'])"
      ]
     },
     "execution_count": 26,
     "metadata": {},
     "output_type": "execute_result"
    }
   ],
   "source": [
    "from datetime import datetime\n",
    "from swmfpy.web import get_omni_data\n",
    "\n",
    "start_time = datetime(1999, 10, 26)\n",
    "end_time = datetime(1999, 10, 27)\n",
    "data = get_omni_data(start_time, end_time)\n",
    "data.keys()"
   ]
  },
  {
   "cell_type": "code",
   "execution_count": 35,
   "id": "a3766477",
   "metadata": {},
   "outputs": [
    {
     "data": {
      "text/plain": [
       "<function matplotlib.pyplot.show(close=None, block=None)>"
      ]
     },
     "execution_count": 35,
     "metadata": {},
     "output_type": "execute_result"
    },
    {
     "data": {
      "image/png": "[encoded data removed]",
      "text/plain": [
       "<Figure size 640x480 with 1 Axes>"
      ]
     },
     "metadata": {},
     "output_type": "display_data"
    }
   ],
   "source": [
    "x = data['times']       #Time steps during my birthday\n",
    "#print(x)\n",
    "y = data['al']          #Auroral data during my birthday\n",
    "#print(y)\n",
    "\n",
    "plt.plot(x, y, 'coral')   #Plot y vs x with color \"coral\"\n",
    "plt.xlabel('Time $[UTC]$')\n",
    "plt.xticks(rotation=45)    #Rotate x axis labels to fit\n",
    "plt.ylabel('AL $[nT]$')\n",
    "plt.title('Auroral Data for 10/26/1999')\n",
    "plt.show"
   ]
  },
  {
   "cell_type": "code",
   "execution_count": null,
   "id": "703239cf",
   "metadata": {},
   "outputs": [],
   "source": []
  }
 ],
 "metadata": {
  "kernelspec": {
   "display_name": "Python 3 (ipykernel)",
   "language": "python",
   "name": "python3"
  },
  "language_info": {
   "codemirror_mode": {
    "name": "ipython",
    "version": 3
   },
   "file_extension": ".py",
   "mimetype": "text/x-python",
   "name": "python",
   "nbconvert_exporter": "python",
   "pygments_lexer": "ipython3",
   "version": "3.10.9"
  }
 },
 "nbformat": 4,
 "nbformat_minor": 5
}
